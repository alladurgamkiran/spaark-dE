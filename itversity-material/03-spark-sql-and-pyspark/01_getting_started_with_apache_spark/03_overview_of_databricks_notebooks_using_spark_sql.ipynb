{
 "cells": [
  {
   "cell_type": "markdown",
   "metadata": {},
   "source": [
    "## Overview of Databricks Notebooks using Spark SQL\n",
    "\n",
    "Let us understand how to launch Databricks Notebooks using Spark SQL.\n",
    "* Login into Databricks Environment\n",
    "* Create a Notebook using SQL as Language. You can also use this Notebook from the material. Make sure to change the kernel to SQL, if you use this Notebook.\n",
    "* Run below cells to understand how to run Spark SQL queries or commands."
   ]
  },
  {
   "cell_type": "markdown",
   "metadata": {},
   "source": [
    "SELECT current_date"
   ]
  },
  {
   "cell_type": "code",
   "execution_count": null,
   "metadata": {
    "vscode": {
     "languageId": "plaintext"
    }
   },
   "outputs": [],
   "source": [
    "SHOW databases"
   ]
  },
  {
   "cell_type": "code",
   "execution_count": null,
   "metadata": {
    "vscode": {
     "languageId": "plaintext"
    }
   },
   "outputs": [],
   "source": [
    "SHOW tables"
   ]
  }
 ],
 "metadata": {
  "celltoolbar": "Tags",
  "kernelspec": {
   "display_name": "Apache Toree - Scala",
   "language": "scala",
   "name": "apache_toree_scala"
  },
  "language_info": {
   "codemirror_mode": "text/x-scala",
   "file_extension": ".scala",
   "mimetype": "text/x-scala",
   "name": "scala",
   "pygments_lexer": "scala",
   "version": "2.11.12"
  }
 },
 "nbformat": 4,
 "nbformat_minor": 4
}

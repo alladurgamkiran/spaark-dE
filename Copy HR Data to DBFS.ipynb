{
 "cells": [
  {
   "cell_type": "code",
   "execution_count": 4,
   "metadata": {},
   "outputs": [
    {
     "name": "stdout",
     "output_type": "stream",
     "text": [
      "countries\n",
      "create_tables_mysql.sql\n",
      "create_tables_pg.sql\n",
      "departments\n",
      "drop_tables_pg.sql\n",
      "emp_details_view\n",
      "employees\n",
      "job_history\n",
      "jobs\n",
      "load_data.sql\n",
      "load_data_pg.sql\n",
      "locations\n",
      "regions\n"
     ]
    }
   ],
   "source": [
    "!databricks fs ls dbfs:/public/hr_db"
   ]
  },
  {
   "cell_type": "code",
   "execution_count": 3,
   "metadata": {},
   "outputs": [
    {
     "name": "stdout",
     "output_type": "stream",
     "text": [
      "data/hr_db\\countries\\part-m-00000 -> dbfs:/public/hr_db/countries/part-m-00000\n",
      "data/hr_db\\countries\\part-m-00001 -> dbfs:/public/hr_db/countries/part-m-00001\n",
      "data/hr_db\\countries\\part-m-00002 -> dbfs:/public/hr_db/countries/part-m-00002\n",
      "data/hr_db\\countries\\part-m-00003 -> dbfs:/public/hr_db/countries/part-m-00003\n",
      "data/hr_db\\create_tables_mysql.sql -> dbfs:/public/hr_db/create_tables_mysql.sql\n",
      "data/hr_db\\create_tables_pg.sql -> dbfs:/public/hr_db/create_tables_pg.sql\n",
      "data/hr_db\\departments\\part-m-00000 -> dbfs:/public/hr_db/departments/part-m-00000\n",
      "data/hr_db\\departments\\part-m-00001 -> dbfs:/public/hr_db/departments/part-m-00001\n",
      "data/hr_db\\departments\\part-m-00002 -> dbfs:/public/hr_db/departments/part-m-00002\n",
      "data/hr_db\\departments\\part-m-00003 -> dbfs:/public/hr_db/departments/part-m-00003\n",
      "data/hr_db\\drop_tables_pg.sql -> dbfs:/public/hr_db/drop_tables_pg.sql\n",
      "data/hr_db\\employees\\.part-00000.csv.swp -> dbfs:/public/hr_db/employees/.part-00000.csv.swp\n",
      "data/hr_db\\employees\\part-00000.csv -> dbfs:/public/hr_db/employees/part-00000.csv\n",
      "data/hr_db\\emp_details_view\\part-m-00000 -> dbfs:/public/hr_db/emp_details_view/part-m-00000\n",
      "data/hr_db\\jobs\\part-m-00001 -> dbfs:/public/hr_db/jobs/part-m-00001\n",
      "data/hr_db\\jobs\\part-m-00002 -> dbfs:/public/hr_db/jobs/part-m-00002\n",
      "data/hr_db\\jobs\\part-m-00003 -> dbfs:/public/hr_db/jobs/part-m-00003\n",
      "data/hr_db\\jobs\\part-m-00004 -> dbfs:/public/hr_db/jobs/part-m-00004\n",
      "data/hr_db\\job_history\\part-m-00000 -> dbfs:/public/hr_db/job_history/part-m-00000\n",
      "data/hr_db\\job_history\\part-m-00003 -> dbfs:/public/hr_db/job_history/part-m-00003\n",
      "data/hr_db\\load_data.sql -> dbfs:/public/hr_db/load_data.sql\n",
      "data/hr_db\\load_data_pg.sql -> dbfs:/public/hr_db/load_data_pg.sql\n",
      "data/hr_db\\locations\\part-m-00000 -> dbfs:/public/hr_db/locations/part-m-00000\n",
      "data/hr_db\\locations\\part-m-00001 -> dbfs:/public/hr_db/locations/part-m-00001\n",
      "data/hr_db\\locations\\part-m-00002 -> dbfs:/public/hr_db/locations/part-m-00002\n",
      "data/hr_db\\locations\\part-m-00003 -> dbfs:/public/hr_db/locations/part-m-00003\n",
      "data/hr_db\\regions\\part-m-00000 -> dbfs:/public/hr_db/regions/part-m-00000\n",
      "data/hr_db\\regions\\part-m-00001 -> dbfs:/public/hr_db/regions/part-m-00001\n",
      "data/hr_db\\regions\\part-m-00002 -> dbfs:/public/hr_db/regions/part-m-00002\n",
      "data/hr_db\\regions\\part-m-00003 -> dbfs:/public/hr_db/regions/part-m-00003\n"
     ]
    }
   ],
   "source": [
    "!databricks fs cp data/hr_db dbfs:/public/hr_db -r --overwrite"
   ]
  },
  {
   "cell_type": "code",
   "execution_count": null,
   "metadata": {},
   "outputs": [],
   "source": []
  }
 ],
 "metadata": {
  "kernelspec": {
   "display_name": "Python 3.9.13 ('de-venv': venv)",
   "language": "python",
   "name": "python3"
  },
  "language_info": {
   "codemirror_mode": {
    "name": "ipython",
    "version": 3
   },
   "file_extension": ".py",
   "mimetype": "text/x-python",
   "name": "python",
   "nbconvert_exporter": "python",
   "pygments_lexer": "ipython3",
   "version": "3.9.13"
  },
  "orig_nbformat": 4,
  "vscode": {
   "interpreter": {
    "hash": "4231b894330257367e4e8349eaffa8ac324890b88d445dc5e124c3080bced56e"
   }
  }
 },
 "nbformat": 4,
 "nbformat_minor": 2
}

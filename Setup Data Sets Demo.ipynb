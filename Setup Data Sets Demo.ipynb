{
 "cells": [
  {
   "cell_type": "code",
   "execution_count": 1,
   "metadata": {},
   "outputs": [
    {
     "name": "stdout",
     "output_type": "stream",
     "text": [
      "Usage: databricks fs [OPTIONS] COMMAND [ARGS]...\n",
      "\n",
      "  Utility to interact with DBFS.\n",
      "\n",
      "  DBFS paths are all prefixed with dbfs:/. Local paths can be absolute or\n",
      "  local.\n",
      "\n",
      "Options:\n",
      "  -v, --version   0.17.3\n",
      "  --debug         Debug Mode. Shows full stack trace on error.\n",
      "  --profile TEXT  CLI connection profile to use. The default profile is\n",
      "                  \"DEFAULT\".\n",
      "  -h, --help      Show this message and exit.\n",
      "\n",
      "Commands:\n",
      "  cat        Show the contents of a file.\n",
      "  configure  Configures host and authentication info for the CLI.\n",
      "  cp         Copy files to and from DBFS.\n",
      "  ls         List files in DBFS.\n",
      "  mkdirs     Make directories in DBFS.\n",
      "  mv         Moves a file between two DBFS paths.\n",
      "  rm         Remove files from dbfs.\n"
     ]
    }
   ],
   "source": [
    "!databricks fs -h"
   ]
  },
  {
   "cell_type": "code",
   "execution_count": 2,
   "metadata": {},
   "outputs": [
    {
     "name": "stdout",
     "output_type": "stream",
     "text": [
      "databricks-results\n"
     ]
    }
   ],
   "source": [
    "!databricks fs ls"
   ]
  },
  {
   "cell_type": "code",
   "execution_count": 6,
   "metadata": {},
   "outputs": [
    {
     "name": "stdout",
     "output_type": "stream",
     "text": [
      "Usage: databricks fs mkdirs [OPTIONS] DBFS_PATH\n",
      "\n",
      "  Make directories in DBFS.\n",
      "\n",
      "  Mkdirs will create directories along the path to the argument directory.\n",
      "\n",
      "Options:\n",
      "  --debug         Debug Mode. Shows full stack trace on error.\n",
      "  --profile TEXT  CLI connection profile to use. The default profile is\n",
      "                  \"DEFAULT\".\n",
      "  -h, --help      Show this message and exit.\n"
     ]
    }
   ],
   "source": [
    "!databricks fs mkdirs -h"
   ]
  },
  {
   "cell_type": "code",
   "execution_count": 7,
   "metadata": {},
   "outputs": [],
   "source": [
    "!databricks fs mkdirs dbfs:/public"
   ]
  },
  {
   "cell_type": "code",
   "execution_count": 8,
   "metadata": {},
   "outputs": [
    {
     "name": "stdout",
     "output_type": "stream",
     "text": [
      "\n"
     ]
    }
   ],
   "source": [
    "!databricks fs ls dbfs:/public"
   ]
  },
  {
   "cell_type": "code",
   "execution_count": 9,
   "metadata": {},
   "outputs": [
    {
     "name": "stdout",
     "output_type": "stream",
     "text": [
      "Usage: databricks fs cp [OPTIONS] SRC DST\n",
      "\n",
      "  Copy files to and from DBFS.\n",
      "\n",
      "  Note that this function will fail if the src and dst are both on the local\n",
      "  filesystem.\n",
      "\n",
      "  For non-recursive copies, if the dst is a directory, the file will be placed\n",
      "  inside the directory. For example ``dbfs cp dbfs:/apple.txt .`` will create\n",
      "  a file at `./apple.txt`.\n",
      "\n",
      "  For recursive copies, files inside of the src directory will be copied\n",
      "  inside the dst directory with the same name. If the dst path does not exist,\n",
      "  a directory will be created. For example ``dbfs cp -r dbfs:/foo foo`` will\n",
      "  create a directory foo and place the files ``dbfs:/foo/a`` at ``foo/a``. If\n",
      "  ``foo/a`` already exists, the file will not be overridden unless the\n",
      "  --overwrite flag is provided -- however, dbfs cp --recursive will continue\n",
      "  to try and copy other files.\n",
      "\n",
      "Options:\n",
      "  -r, --recursive\n",
      "  --overwrite\n",
      "  --debug          Debug Mode. Shows full stack trace on error.\n",
      "  --profile TEXT   CLI connection profile to use. The default profile is\n",
      "                   \"DEFAULT\".\n",
      "  -h, --help       Show this message and exit.\n"
     ]
    }
   ],
   "source": [
    "!databricks fs cp -h"
   ]
  },
  {
   "cell_type": "code",
   "execution_count": 10,
   "metadata": {},
   "outputs": [
    {
     "name": "stdout",
     "output_type": "stream",
     "text": [
      "data/retail_db\\categories\\part-00000 -> dbfs:/public/retail_db/categories/part-00000\n",
      "data/retail_db\\create_db.sql -> dbfs:/public/retail_db/create_db.sql\n",
      "data/retail_db\\create_db_tables_pg.sql -> dbfs:/public/retail_db/create_db_tables_pg.sql\n",
      "data/retail_db\\customers\\part-00000 -> dbfs:/public/retail_db/customers/part-00000\n",
      "data/retail_db\\departments\\part-00000 -> dbfs:/public/retail_db/departments/part-00000\n",
      "data/retail_db\\load_db_tables_pg.sql -> dbfs:/public/retail_db/load_db_tables_pg.sql\n",
      "data/retail_db\\orders\\part-00000 -> dbfs:/public/retail_db/orders/part-00000\n",
      "data/retail_db\\order_items\\part-00000 -> dbfs:/public/retail_db/order_items/part-00000\n",
      "data/retail_db\\products\\part-00000 -> dbfs:/public/retail_db/products/part-00000\n"
     ]
    }
   ],
   "source": [
    "!databricks fs cp data/retail_db dbfs:/public/retail_db --recursive"
   ]
  },
  {
   "cell_type": "code",
   "execution_count": 13,
   "metadata": {},
   "outputs": [
    {
     "name": "stdout",
     "output_type": "stream",
     "text": [
      "part-00000\n"
     ]
    }
   ],
   "source": [
    "!databricks fs ls dbfs:/public/retail_db/orders"
   ]
  },
  {
   "cell_type": "code",
   "execution_count": null,
   "metadata": {},
   "outputs": [],
   "source": []
  }
 ],
 "metadata": {
  "kernelspec": {
   "display_name": "Python 3.9.13 ('de-venv': venv)",
   "language": "python",
   "name": "python3"
  },
  "language_info": {
   "codemirror_mode": {
    "name": "ipython",
    "version": 3
   },
   "file_extension": ".py",
   "mimetype": "text/x-python",
   "name": "python",
   "nbconvert_exporter": "python",
   "pygments_lexer": "ipython3",
   "version": "3.9.13"
  },
  "orig_nbformat": 4,
  "vscode": {
   "interpreter": {
    "hash": "4231b894330257367e4e8349eaffa8ac324890b88d445dc5e124c3080bced56e"
   }
  }
 },
 "nbformat": 4,
 "nbformat_minor": 2
}
